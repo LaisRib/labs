{
 "cells": [
  {
   "cell_type": "markdown",
   "id": "f4125305-3ad6-48ab-8ca3-6b50718bc9be",
   "metadata": {},
   "source": [
    "# Data Science Tools and Ecosystem"
   ]
  },
  {
   "cell_type": "markdown",
   "id": "ed307c36-34ec-4477-979a-e412af567c72",
   "metadata": {},
   "source": [
    "**Neste notebook, as Ferramentas e Ecossistema de Ciência de Dados são resumidos.**"
   ]
  },
  {
   "cell_type": "markdown",
   "id": "274d9714-3d51-4ad3-abfc-b262eff586e6",
   "metadata": {},
   "source": [
    "**Objetivos:**\n",
    "* Listar linguagens populares que os Cientistas de Dados usam\n",
    "* Listar algumas das linguagens populares que os Cientistas de Dados usam\n",
    "* Listar operações aritméticas possíveis na linguagem Python\n",
    "* Listar algumas das bibliotecas comumente usadas por Cientistas de Dados"
   ]
  },
  {
   "cell_type": "markdown",
   "id": "cfd55918-42fc-4bf6-ad38-d20457541b7f",
   "metadata": {},
   "source": [
    "Algumas das linguagens populares que os Cientistas de Dados usam são:\n",
    "1. Python\n",
    "2. R\n",
    "3. SQL\n",
    "4. entre outras"
   ]
  },
  {
   "cell_type": "markdown",
   "id": "78ec0318-ebdd-4a62-8ef8-bea7b58133f2",
   "metadata": {},
   "source": [
    "Algumas das bibliotecas comumente usadas por Cientistas de Dados incluem:\n",
    "1. Pandas\n",
    "2. NumPy\n",
    "3. Matplotlib\n",
    "4. entre outras\n"
   ]
  },
  {
   "cell_type": "markdown",
   "id": "5bb29c0b-8233-4c6b-98d2-89f9eda4401d",
   "metadata": {},
   "source": [
    "|Ferramentas de Ciência de Dados|\n",
    "|-------------------------------|\n",
    "|Jupyter Notebook|\n",
    "|Google Colab|\n",
    "|Github|"
   ]
  },
  {
   "cell_type": "markdown",
   "id": "35664920-03cf-423c-a3e2-46c804edbae4",
   "metadata": {},
   "source": [
    "### Abaixo estão alguns exemplos de avaliação de expressões aritméticas em Python\n",
    "* Adição +\n",
    "* Subtração -\n",
    "* Multiplicação *\n",
    "* Divisão /"
   ]
  },
  {
   "cell_type": "code",
   "execution_count": 9,
   "id": "2fbcdc53-48da-458a-8425-f4d3daf39345",
   "metadata": {},
   "outputs": [
    {
     "data": {
      "text/plain": [
       "17"
      ]
     },
     "execution_count": 9,
     "metadata": {},
     "output_type": "execute_result"
    }
   ],
   "source": [
    "(3*4)+5\n"
   ]
  },
  {
   "cell_type": "code",
   "execution_count": null,
   "id": "fe3938e6-1244-4e74-93d3-7b881ac4ea43",
   "metadata": {},
   "outputs": [],
   "source": [
    "Isto converterá 200 minutos em horas dividindo por 60"
   ]
  },
  {
   "cell_type": "code",
   "execution_count": 10,
   "id": "5ec64bdc-b8fa-4d24-a19c-547f11c852a2",
   "metadata": {},
   "outputs": [
    {
     "data": {
      "text/plain": [
       "3.3333333333333335"
      ]
     },
     "execution_count": 10,
     "metadata": {},
     "output_type": "execute_result"
    }
   ],
   "source": [
    "200 / 60"
   ]
  },
  {
   "cell_type": "markdown",
   "id": "7e057d9b-5e9d-4e53-9b48-18fc9529b34c",
   "metadata": {},
   "source": [
    "## Autor\n",
    "Laís Ribeiro"
   ]
  },
  {
   "cell_type": "code",
   "execution_count": null,
   "id": "bad43d07-1f70-442d-b41a-b3c04c99330a",
   "metadata": {},
   "outputs": [],
   "source": []
  }
 ],
 "metadata": {
  "kernelspec": {
   "display_name": "Python 3 (ipykernel)",
   "language": "python",
   "name": "python3"
  },
  "language_info": {
   "codemirror_mode": {
    "name": "ipython",
    "version": 3
   },
   "file_extension": ".py",
   "mimetype": "text/x-python",
   "name": "python",
   "nbconvert_exporter": "python",
   "pygments_lexer": "ipython3",
   "version": "3.12.7"
  }
 },
 "nbformat": 4,
 "nbformat_minor": 5
}
